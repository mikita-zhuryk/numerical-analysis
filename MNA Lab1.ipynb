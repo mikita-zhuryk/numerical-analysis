{
 "cells": [
  {
   "cell_type": "code",
   "execution_count": 1,
   "metadata": {},
   "outputs": [
    {
     "data": {
      "text/plain": [
       "[<matplotlib.lines.Line2D at 0x243d23ce5c0>]"
      ]
     },
     "execution_count": 1,
     "metadata": {},
     "output_type": "execute_result"
    }
   ],
   "source": [
    "#Plot the function\n",
    "\n",
    "import math\n",
    "import numpy as np\n",
    "import sympy as sp\n",
    "import matplotlib.pyplot as plt\n",
    "\n",
    "samples = 49900\n",
    "\n",
    "x = sp.Symbol(\"x\")\n",
    "f = sp.Function(\"f\")(x)\n",
    "\n",
    "def func(x):\n",
    "    l = math.log(x)\n",
    "    return 3 * l ** 2 + 6 * l - 5\n",
    "\n",
    "x_values = np.linspace(0.01, 3, samples)\n",
    "f_values = np.zeros(np.shape(x_values))\n",
    "\n",
    "for i in range(samples):\n",
    "    f_values[i] = func(x_values[i])\n",
    "    \n",
    "plt.plot(x_values, f_values)"
   ]
  },
  {
   "cell_type": "code",
   "execution_count": 2,
   "metadata": {},
   "outputs": [
    {
     "name": "stdout",
     "output_type": "stream",
     "text": [
      "1.505 3.0\n",
      "-2.0459077099366416 5.2125206144464045\n"
     ]
    }
   ],
   "source": [
    "#Dichotomy\n",
    "\n",
    "x_bounds = np.array([0.01, 3])\n",
    "i = 1\n",
    "\n",
    "while func(x_bounds[i - 1]) * func(x_bounds[i]) >= 0:\n",
    "    x_bounds = np.append(x_bounds, (x_bounds[i - 1] + x_bounds[i]) / 2)\n",
    "    i = i + 1\n",
    "\n",
    "print(x_bounds[-1], x_bounds[-2])\n",
    "print(func(x_bounds[-1]), func(x_bounds[-2]))"
   ]
  },
  {
   "cell_type": "code",
   "execution_count": 3,
   "metadata": {},
   "outputs": [
    {
     "name": "stdout",
     "output_type": "stream",
     "text": [
      "[ 1032. 31261.]\n"
     ]
    }
   ],
   "source": [
    "#Root separation\n",
    "\n",
    "intervals = []\n",
    "\n",
    "for i in range(samples - 1):\n",
    "    if (f_values[i + 1] * f_values[i] < 0):\n",
    "        intervals = np.append(intervals, i)\n",
    "        \n",
    "print(intervals)"
   ]
  },
  {
   "cell_type": "code",
   "execution_count": 4,
   "metadata": {},
   "outputs": [
    {
     "name": "stdout",
     "output_type": "stream",
     "text": [
      "Interval # 1032\n",
      "Interval borders: 0.0718385137978717 0.07189843483837352\n",
      "X[0] = 0.07186847431812261 ; X[1] = 0.07187734546159927\n",
      "X* = 0.07187734546159927 ; f(X*) = -0.0019498118696219535\n",
      "Interval # 31261\n",
      "Interval borders: 1.883191647127197 1.883251568167699\n",
      "X[0] = 1.883221607647448 ; X[1] = 1.8832499942208079\n",
      "1.883232025712364\n",
      "1.8832433996546887\n",
      "1.8832362000267142\n",
      "X* = 1.8832362000267142 ; f(X*) = -1.4519611476693228e-05\n"
     ]
    }
   ],
   "source": [
    "#Solve the equation using simple iteration method\n",
    "\n",
    "def phi(x):\n",
    "    return math.e ** ((-3 * math.log(x) ** 2 + 5) / 6)\n",
    "\n",
    "interval = 0\n",
    "\n",
    "for i in intervals:\n",
    "    interval = int(i)\n",
    "    print(\"Interval #\", interval)\n",
    "    print(\"Interval borders:\", x_values[interval], x_values[interval + 1])\n",
    "    old_x = (x_values[interval] + x_values[interval + 1]) / 2\n",
    "    new_x = phi(old_x)\n",
    "    print(\"X[0] =\", old_x, \"; X[1] =\", new_x)\n",
    "    eps = 0.00001\n",
    "\n",
    "    while (abs(new_x - old_x) >= eps):\n",
    "        old_x = new_x\n",
    "        new_x = phi(old_x)\n",
    "        print(new_x)\n",
    "\n",
    "    print(\"X* =\", new_x, \"; f(X*) =\", func(new_x))"
   ]
  }
 ],
 "metadata": {
  "kernelspec": {
   "display_name": "Python 3",
   "language": "python",
   "name": "python3"
  },
  "language_info": {
   "codemirror_mode": {
    "name": "ipython",
    "version": 3
   },
   "file_extension": ".py",
   "mimetype": "text/x-python",
   "name": "python",
   "nbconvert_exporter": "python",
   "pygments_lexer": "ipython3",
   "version": "3.7.0"
  }
 },
 "nbformat": 4,
 "nbformat_minor": 2
}
