{
 "cells": [
  {
   "cell_type": "code",
   "execution_count": 1,
   "metadata": {},
   "outputs": [],
   "source": [
    "from Common import *"
   ]
  },
  {
   "cell_type": "code",
   "execution_count": 2,
   "metadata": {},
   "outputs": [],
   "source": [
    "#Solve the equation using secant method\n",
    "    \n",
    "def find_all_roots(f, f_prime, intervals, epsilon):\n",
    "    def find_root(interval):\n",
    "        def diff_ratio(old_x, new_x):\n",
    "            v = (f(new_x) - f(old_x)) / (new_x - old_x) \n",
    "            return v\n",
    "        \n",
    "        x_left = interval[0]\n",
    "        x_right = interval[1]\n",
    "        lam = f(x_left) / f(x_right)\n",
    "        x_k2 = (x_left - lam * x_right) / (1 - lam)\n",
    "        x_0 = x_k2\n",
    "        #old_x = (x_left + x_right) / 2\n",
    "        x_k1 = x_k2 - f(x_k2) / f_prime(x_k2)\n",
    "        print(\"x_1 after one Newton step:\", x_k1)\n",
    "        x_k = x_k1 - f(x_k1) / diff_ratio(x_k2, x_k1)\n",
    "        iter_num = 2\n",
    "        while (abs(x_k1 - x_k) >= eps):\n",
    "            x_k2 = x_k1\n",
    "            x_k1 = x_k\n",
    "            x_k = x_k1 - f(x_k1) / diff_ratio(x_k2, x_k1)\n",
    "            #print(x_k)\n",
    "            iter_num += 1\n",
    "        return (x_k1, x_k, iter_num, x_0)\n",
    "    \n",
    "    global eps\n",
    "    eps = epsilon\n",
    "    roots = np.array([])\n",
    "    for interval in intervals:\n",
    "        (x_k, x_k1, iter_num, x_0) = find_root(interval)\n",
    "        print(\"Interval: [{}; {}]\\nx^0 = {}\\nRoot: x* = {}; f(x*) = {}\\n|x^(k+1) - x^k| = {}\\nNumber of iterations: {}\\n\"\n",
    "              .format(interval[0], interval[1], x_0, x_k1, f(x_k1), abs(x_k - x_k1), iter_num))\n",
    "        if len(roots) == 1:\n",
    "            roots[0] = x_k1\n",
    "        else:\n",
    "            roots = np.append(roots, x_k1)\n",
    "    return roots"
   ]
  },
  {
   "cell_type": "code",
   "execution_count": 3,
   "metadata": {},
   "outputs": [
    {
     "name": "stdout",
     "output_type": "stream",
     "text": [
      "x_1 after one Newton step: 0.011919072400887187\n",
      "Interval: [0.01; 0.1673684210526316]\n",
      "x^0 = 0.14134905726406316\n",
      "Root: x* = 0.07186304228911596; f(x*) = 1.290345608140342e-11\n",
      "|x^(k+1) - x^k| = 3.5431435979615955e-09\n",
      "Number of iterations: 10\n",
      "\n",
      "x_1 after one Newton step: 1.8832389857682699\n",
      "Interval: [1.7410526315789476; 1.8984210526315792]\n",
      "x^0 = 1.8834601238122997\n",
      "Root: x* = 1.883238990800978; f(x*) = 5.95967719618784e-13\n",
      "|x^(k+1) - x^k| = 5.032708028096522e-09\n",
      "Number of iterations: 2\n",
      "\n"
     ]
    }
   ],
   "source": [
    "if __name__ == \"__main__\":\n",
    "    intervals = get_intervals_table(left_border, right_border, f, samples)\n",
    "    find_all_roots(f, f_prime, intervals, eps)"
   ]
  }
 ],
 "metadata": {
  "kernelspec": {
   "display_name": "Python 3",
   "language": "python",
   "name": "python3"
  },
  "language_info": {
   "codemirror_mode": {
    "name": "ipython",
    "version": 3
   },
   "file_extension": ".py",
   "mimetype": "text/x-python",
   "name": "python",
   "nbconvert_exporter": "python",
   "pygments_lexer": "ipython3",
   "version": "3.7.0"
  }
 },
 "nbformat": 4,
 "nbformat_minor": 2
}
