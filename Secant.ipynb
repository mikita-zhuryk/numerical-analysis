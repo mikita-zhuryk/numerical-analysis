{
 "cells": [
  {
   "cell_type": "code",
   "execution_count": 1,
   "metadata": {},
   "outputs": [
    {
     "name": "stdout",
     "output_type": "stream",
     "text": [
      "[ 0. 11.]\n"
     ]
    },
    {
     "data": {
      "text/plain": [
       "[<matplotlib.lines.Line2D at 0x1ef847f2ef0>]"
      ]
     },
     "execution_count": 1,
     "metadata": {},
     "output_type": "execute_result"
    }
   ],
   "source": [
    "from Common import *\n",
    "\n",
    "plt.plot(x_values, f_values)"
   ]
  },
  {
   "cell_type": "code",
   "execution_count": 2,
   "metadata": {},
   "outputs": [
    {
     "name": "stdout",
     "output_type": "stream",
     "text": [
      "x_1 after one Newton step: 0.011919072400887187\n",
      "Root: x* = 0.07186304583225955; f(x*) = -4.830667634792007e-07\n",
      "|x^(k+1) - x^k| = 2.376649111679452e-06\n",
      "Number of iterations: 9\n",
      "\n",
      "x_1 after one Newton step: 1.8832389857682699\n",
      "Root: x* = 1.883238990800978; f(x*) = 5.95967719618784e-13\n",
      "|x^(k+1) - x^k| = 5.032708028096522e-09\n",
      "Number of iterations: 2\n",
      "\n"
     ]
    }
   ],
   "source": [
    "#Check all conditions\n",
    "\n",
    "\n",
    "\n",
    "#Solve the equation using secant method\n",
    "\n",
    "def diff_ratio(old_x, new_x):\n",
    "    v = (f(new_x) - f(old_x)) / (new_x - old_x) \n",
    "    return v\n",
    "\n",
    "def find_root(interval):\n",
    "    x_left = x_values[interval]\n",
    "    x_right = x_values[interval + 1]\n",
    "    lam = f(x_left) / f(x_right)\n",
    "    x_k2 = (x_left - lam * x_right) / (1 - lam)\n",
    "    #old_x = (x_left + x_right) / 2\n",
    "    x_k1 = x_k2 - f(x_k2) / f_prime(x_k2)\n",
    "    print(\"x_1 after one Newton step:\", x_k1)\n",
    "    x_k = x_k1 - f(x_k1) / diff_ratio(x_k2, x_k1)\n",
    "    iter_num = 2\n",
    "    while (abs(x_k1 - x_k) >= eps):\n",
    "        x_k2 = x_k1\n",
    "        x_k1 = x_k\n",
    "        x_k = x_k1 - f(x_k1) / diff_ratio(x_k2, x_k1)\n",
    "        #print(x_k)\n",
    "        iter_num += 1\n",
    "    return (x_k1, x_k, iter_num)\n",
    "\n",
    "for i in intervals:\n",
    "    interval = int(i)\n",
    "    (x_k, x_k1, iter_num) = find_root(interval)\n",
    "    print(\"Root: x* = {0}; f(x*) = {1}\\n|x^(k+1) - x^k| = {2}\\nNumber of iterations: {3}\\n\"\n",
    "          .format(x_k1, f(x_k1), abs(x_k - x_k1), iter_num))"
   ]
  }
 ],
 "metadata": {
  "kernelspec": {
   "display_name": "Python 3",
   "language": "python",
   "name": "python3"
  },
  "language_info": {
   "codemirror_mode": {
    "name": "ipython",
    "version": 3
   },
   "file_extension": ".py",
   "mimetype": "text/x-python",
   "name": "python",
   "nbconvert_exporter": "python",
   "pygments_lexer": "ipython3",
   "version": "3.7.0"
  }
 },
 "nbformat": 4,
 "nbformat_minor": 2
}
