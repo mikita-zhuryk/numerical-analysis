{
 "cells": [
  {
   "cell_type": "code",
   "execution_count": 1,
   "metadata": {},
   "outputs": [
    {
     "data": {
      "text/plain": [
       "[<matplotlib.lines.Line2D at 0x23effe985c0>]"
      ]
     },
     "execution_count": 1,
     "metadata": {},
     "output_type": "execute_result"
    }
   ],
   "source": [
    "#Plot the function\n",
    "\n",
    "import math\n",
    "import numpy as np\n",
    "import matplotlib.pyplot as plt\n",
    "\n",
    "samples = 30\n",
    "\n",
    "def func(x):\n",
    "    l = math.log(x)\n",
    "    return 3 * l ** 2 + 6 * l - 5\n",
    "\n",
    "x_values = np.linspace(0.01, 3, samples)\n",
    "f_values = np.zeros(np.shape(x_values))\n",
    "\n",
    "for i in range(samples):\n",
    "    f_values[i] = func(x_values[i])\n",
    "    \n",
    "plt.plot(x_values, f_values)"
   ]
  },
  {
   "cell_type": "code",
   "execution_count": 2,
   "metadata": {},
   "outputs": [
    {
     "name": "stdout",
     "output_type": "stream",
     "text": [
      "1.505 3.0\n",
      "-2.0459077099366416 5.2125206144464045\n"
     ]
    }
   ],
   "source": [
    "#Dichotomy\n",
    "\n",
    "x_bounds = np.array([0.01, 3])\n",
    "i = 1\n",
    "\n",
    "while func(x_bounds[i - 1]) * func(x_bounds[i]) >= 0:\n",
    "    x_bounds = np.append(x_bounds, (x_bounds[i - 1] + x_bounds[i]) / 2)\n",
    "    i = i + 1\n",
    "\n",
    "print(x_bounds[-1], x_bounds[-2])\n",
    "print(func(x_bounds[-1]), func(x_bounds[-2]))"
   ]
  },
  {
   "cell_type": "code",
   "execution_count": 3,
   "metadata": {},
   "outputs": [
    {
     "name": "stdout",
     "output_type": "stream",
     "text": [
      "[ 0. 18.]\n"
     ]
    }
   ],
   "source": [
    "#Root separation\n",
    "\n",
    "intervals = []\n",
    "\n",
    "for i in range(samples - 1):\n",
    "    if (f_values[i + 1] * f_values[i] < 0):\n",
    "        intervals = np.append(intervals, i)\n",
    "        \n",
    "print(intervals)"
   ]
  },
  {
   "cell_type": "code",
   "execution_count": 4,
   "metadata": {},
   "outputs": [
    {
     "name": "stdout",
     "output_type": "stream",
     "text": [
      "Interval # 0\n",
      "Interval borders: 0.01 0.11310344827586206\n",
      "x[0] = 0.05811494252873563 ; x[1] = 0.040170391853405166\n",
      "X* = 2.857448731943152e-278 ; f(X*) = 1221387.0998911406\n",
      "|x^(k+1) - x^k| = 2.9066797737743485e-16\n",
      "Number of iterations: 5\n",
      "Interval # 18\n",
      "Interval borders: 1.8658620689655172 1.9689655172413794\n",
      "x[0] = 1.913977011494253 ; x[1] = 1.8637933872319414\n",
      "X* = 1.8832422674594327 ; f(X*) = 1.704752055076142e-05\n",
      "|x^(k+1) - x^k| = 8.453109955119942e-06\n",
      "Number of iterations: 20\n"
     ]
    }
   ],
   "source": [
    "#Solve the equation using simple iteration method\n",
    "\n",
    "def phi(x):\n",
    "    return math.e ** ((-3 * math.log(x) ** 2 + 5) / 6)\n",
    "\n",
    "interval = 0\n",
    "weights = [8, 7]\n",
    "eps = 10 ** -5\n",
    "\n",
    "for i in intervals:\n",
    "    interval = int(i)\n",
    "    print(\"Interval #\", interval)\n",
    "    print(\"Interval borders:\", x_values[interval], x_values[interval + 1])\n",
    "    old_x = (weights[0] * x_values[interval] + weights[1] * x_values[interval + 1]) / (weights[0] + weights[1])\n",
    "    new_x = phi(old_x)\n",
    "    print(\"x[0] =\", old_x, \"; x[1] =\", new_x)\n",
    "    num_iter = 1\n",
    "\n",
    "    while (abs(new_x - old_x) >= eps):\n",
    "        old_x = new_x\n",
    "        new_x = phi(old_x)\n",
    "        num_iter = num_iter + 1\n",
    "\n",
    "    print(\"X* =\", new_x, \"; f(X*) =\", func(new_x))\n",
    "    print(\"|x^(k+1) - x^k| =\", abs(new_x - old_x))\n",
    "    print(\"Number of iterations:\", num_iter)"
   ]
  }
 ],
 "metadata": {
  "kernelspec": {
   "display_name": "Python 3",
   "language": "python",
   "name": "python3"
  },
  "language_info": {
   "codemirror_mode": {
    "name": "ipython",
    "version": 3
   },
   "file_extension": ".py",
   "mimetype": "text/x-python",
   "name": "python",
   "nbconvert_exporter": "python",
   "pygments_lexer": "ipython3",
   "version": "3.7.0"
  }
 },
 "nbformat": 4,
 "nbformat_minor": 2
}
