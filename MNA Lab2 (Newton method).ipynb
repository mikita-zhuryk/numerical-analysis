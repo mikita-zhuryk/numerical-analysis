{
 "cells": [
  {
   "cell_type": "code",
   "execution_count": 1,
   "metadata": {},
   "outputs": [
    {
     "name": "stdout",
     "output_type": "stream",
     "text": [
      "[ 0. 18.]\n"
     ]
    }
   ],
   "source": [
    "from Common import *"
   ]
  },
  {
   "cell_type": "code",
   "execution_count": 2,
   "metadata": {},
   "outputs": [
    {
     "name": "stdout",
     "output_type": "stream",
     "text": [
      "0.06156321080150202\n",
      "0.07067482943128332\n",
      "0.0718472099772482\n",
      "0.07186303947720629\n",
      "Root: x* = 0.0718630422892105; f(x*) = 7.105427357601002e-15\n",
      "|x^(k+1) - x^k| = 2.8120042128154665e-09\n",
      "Number of iterations: 5\n",
      "1.8832389883739322\n",
      "Root: x* = 1.8832389908008635; f(x*) = 1.7763568394002505e-15\n",
      "|x^(k+1) - x^k| = 2.4269313225744327e-09\n",
      "Number of iterations: 2\n"
     ]
    }
   ],
   "source": [
    "#Check all conditions\n",
    "\n",
    "\n",
    "\n",
    "#Solve the equation using Newton method\n",
    "\n",
    "def find_root(interval):\n",
    "    x_left = x_values[interval]\n",
    "    x_right = x_values[interval + 1]\n",
    "    lam = f(x_left) / f(x_right)\n",
    "    old_x = (x_left - lam * x_right) / (1 - lam)\n",
    "    #old_x = (x_left + x_right) / 2\n",
    "    new_x = old_x - f(old_x) / f_prime(old_x)\n",
    "    iter_num = 1\n",
    "    while (abs(old_x - new_x) >= eps):\n",
    "        old_x = new_x\n",
    "        print(new_x)\n",
    "        new_x = old_x - f(old_x) / f_prime(old_x)\n",
    "        iter_num += 1\n",
    "    return (old_x, new_x, iter_num)\n",
    "\n",
    "for i in intervals:\n",
    "    interval = int(i)\n",
    "    (x_k, x_k1, iter_num) = find_root(interval)\n",
    "    print(\"Root: x* = {0}; f(x*) = {1}\\n|x^(k+1) - x^k| = {2}\\nNumber of iterations: {3}\"\n",
    "          .format(x_k1, f(x_k1), abs(x_k - x_k1), iter_num))"
   ]
  }
 ],
 "metadata": {
  "kernelspec": {
   "display_name": "Python 3",
   "language": "python",
   "name": "python3"
  },
  "language_info": {
   "codemirror_mode": {
    "name": "ipython",
    "version": 3
   },
   "file_extension": ".py",
   "mimetype": "text/x-python",
   "name": "python",
   "nbconvert_exporter": "python",
   "pygments_lexer": "ipython3",
   "version": "3.7.0"
  }
 },
 "nbformat": 4,
 "nbformat_minor": 2
}
