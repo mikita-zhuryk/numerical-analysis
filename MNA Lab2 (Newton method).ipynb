{
 "cells": [
  {
   "cell_type": "code",
   "execution_count": 1,
   "metadata": {},
   "outputs": [],
   "source": [
    "from math import log\n",
    "import numpy as np\n",
    "import matplotlib.pyplot as plt\n",
    "\n",
    "def f(x):\n",
    "    l = log(x)\n",
    "    return 3 * l ** 2 + 6 * l - 5\n",
    "\n",
    "def f_prime(x):\n",
    "    l = log(x)\n",
    "    return 6 * (l + 1) / x\n",
    "\n",
    "samples = 20"
   ]
  },
  {
   "cell_type": "code",
   "execution_count": 2,
   "metadata": {},
   "outputs": [
    {
     "data": {
      "text/plain": [
       "[<matplotlib.lines.Line2D at 0x269ba158c50>]"
      ]
     },
     "execution_count": 2,
     "metadata": {},
     "output_type": "execute_result"
    },
    {
     "data": {
      "image/png": "[encoded data removed]",
      "text/plain": [
       "<Figure size 432x288 with 1 Axes>"
      ]
     },
     "metadata": {
      "needs_background": "light"
     },
     "output_type": "display_data"
    }
   ],
   "source": [
    "x_values = np.linspace(0.01, 3, samples)\n",
    "f_values = np.zeros(samples)\n",
    "\n",
    "for i in range(samples):\n",
    "    f_values[i] = f(x_values[i])\n",
    "    \n",
    "plt.plot(x_values, f_values)"
   ]
  },
  {
   "cell_type": "code",
   "execution_count": 3,
   "metadata": {},
   "outputs": [
    {
     "name": "stdout",
     "output_type": "stream",
     "text": [
      "[ 0. 11.]\n"
     ]
    }
   ],
   "source": [
    "intervals = []\n",
    "\n",
    "for i in range(samples - 1):\n",
    "    if (f_values[i] * f_values[i + 1] <= 0):\n",
    "        intervals = np.append(intervals, i)\n",
    "        \n",
    "print(intervals)"
   ]
  },
  {
   "cell_type": "code",
   "execution_count": 4,
   "metadata": {},
   "outputs": [
    {
     "name": "stdout",
     "output_type": "stream",
     "text": [
      "0.07184984670696105\n",
      "0.07186304033583918\n",
      "Root: x* = 0.07186304228921055; f(x*) = 3.552713678800501e-15\n",
      "|x^(k+1) - x^k| = 1.9533713674357855e-09\n",
      "Number of iterations: 3\n",
      "1.8825963578629175\n",
      "1.8832389483008345\n",
      "1.883238990800863\n",
      "Root: x* = 1.8832389908008635; f(x*) = 1.7763568394002505e-15\n",
      "|x^(k+1) - x^k| = 4.440892098500626e-16\n",
      "Number of iterations: 4\n"
     ]
    }
   ],
   "source": [
    "eps = 10 ** -8\n",
    "weights = [3, 2]\n",
    "\n",
    "for i in intervals:\n",
    "    interval = int(i)\n",
    "    old_x = (weights[0] * x_values[interval] + weights[1] * x_values[interval + 1]) / (weights[0] + weights[1])\n",
    "    new_x = old_x - f(old_x) / f_prime(old_x)\n",
    "    iter_num = 1\n",
    "    while (abs(old_x - new_x) >= eps):\n",
    "        old_x = new_x\n",
    "        print(new_x)\n",
    "        new_x = old_x - f(old_x) / f_prime(old_x)\n",
    "        iter_num += 1\n",
    "    print(\"Root: x* = {0}; f(x*) = {1}\\n|x^(k+1) - x^k| = {2}\\nNumber of iterations: {3}\"\n",
    "          .format(new_x, f(new_x), abs(old_x - new_x), iter_num))"
   ]
  }
 ],
 "metadata": {
  "kernelspec": {
   "display_name": "Python 3",
   "language": "python",
   "name": "python3"
  },
  "language_info": {
   "codemirror_mode": {
    "name": "ipython",
    "version": 3
   },
   "file_extension": ".py",
   "mimetype": "text/x-python",
   "name": "python",
   "nbconvert_exporter": "python",
   "pygments_lexer": "ipython3",
   "version": "3.7.0"
  }
 },
 "nbformat": 4,
 "nbformat_minor": 2
}
