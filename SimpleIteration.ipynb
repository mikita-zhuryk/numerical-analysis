{
 "cells": [
  {
   "cell_type": "code",
   "execution_count": 4,
   "metadata": {},
   "outputs": [
    {
     "data": {
      "text/plain": [
       "[<matplotlib.lines.Line2D at 0x2992d1b8b00>]"
      ]
     },
     "execution_count": 4,
     "metadata": {},
     "output_type": "execute_result"
    },
    {
     "data": {
      "image/png": "[encoded data removed]",
      "text/plain": [
       "<Figure size 432x288 with 1 Axes>"
      ]
     },
     "metadata": {
      "needs_background": "light"
     },
     "output_type": "display_data"
    }
   ],
   "source": [
    "from Common import *\n",
    "\n",
    "plt.plot(x_values, f_values)"
   ]
  },
  {
   "cell_type": "code",
   "execution_count": 2,
   "metadata": {},
   "outputs": [
    {
     "name": "stdout",
     "output_type": "stream",
     "text": [
      "1.505 3.0\n",
      "-2.0459077099366416 5.2125206144464045\n"
     ]
    }
   ],
   "source": [
    "#Dichotomy\n",
    "\n",
    "x_bounds = np.array([0.01, 3])\n",
    "i = 1\n",
    "\n",
    "while f(x_bounds[i - 1]) * f(x_bounds[i]) >= 0:\n",
    "    x_bounds = np.append(x_bounds, (x_bounds[i - 1] + x_bounds[i]) / 2)\n",
    "    i = i + 1\n",
    "\n",
    "print(x_bounds[-1], x_bounds[-2])\n",
    "print(f(x_bounds[-1]), f(x_bounds[-2]))"
   ]
  },
  {
   "cell_type": "code",
   "execution_count": 3,
   "metadata": {},
   "outputs": [
    {
     "name": "stdout",
     "output_type": "stream",
     "text": [
      "Interval # 1\n",
      "Interval borders: 0.01 0.11310344827586206\n",
      "x[0] = 0.10177199332476651 ; x[1] = 0.16908975421753134\n",
      "X* = 1.8832427963333598 ; f(X*) = 1.979909976590477e-05\n",
      "|x^(k+1) - x^k| = 9.817496610331489e-06\n",
      "Number of iterations: 26\n",
      "\n",
      "Lipschitz hypothesis not satisfied with q = 2.0752517730805766\n",
      "max|phi'(x)| = 4.1241213808479875\n",
      "\n",
      "m = 0.06731776089276482\n",
      "q = 2.0752517730805766\n",
      "delta = 0.09966666666666667\n",
      "\n",
      "m / (1 - q) = 0.06260651000825665\n",
      "m / (1 - q) <= delta\n",
      "\n",
      "Interval # 19\n",
      "Interval borders: 1.8658620689655172 1.9689655172413794\n",
      "x[0] = 1.8833925540201686 ; x[1] = 1.8831417865443285\n",
      "X* = 1.8832364853967574 ; f(X*) = -1.3034911175324737e-05\n",
      "|x^(k+1) - x^k| = 6.46343145449535e-06\n",
      "Number of iterations: 9\n",
      "\n",
      "Lipschitz hypothesis satisfied with q = 0.6317888659999273\n",
      "max|phi'(x)| = 0.6332096062253301\n",
      "\n",
      "m = 0.00025076747584007464\n",
      "q = 0.6317888659999273\n",
      "delta = 0.09966666666666667\n",
      "\n",
      "m / (1 - q) = 0.0006810426211610026\n",
      "m / (1 - q) <= delta\n",
      "\n"
     ]
    }
   ],
   "source": [
    "#Check all conditions\n",
    "\n",
    "def check_Lipschitz(interval):\n",
    "    x = x_values[interval]\n",
    "    xwave = x_values[interval + 1]\n",
    "    q = 15\n",
    "    temp_q = 0\n",
    "    q_samples = 10000\n",
    "    for i in range(q_samples):\n",
    "        diff = (i + 1) * (xwave - x) / (2 * (q_samples))\n",
    "        left = (x + xwave) / 2 - diff\n",
    "        right = left + 2 * diff\n",
    "        temp_q = abs((phi(right) - phi(left)) / (right - left))\n",
    "        #print(\"Calculating q on interval [{0}; {1}]; q_{2} = {3}\".format(left, right, i, temp_q))\n",
    "        if (temp_q < q):\n",
    "            q = temp_q\n",
    "            \n",
    "    if (q < 1):\n",
    "        print(\"Lipschitz hypothesis satisfied with q =\", q)\n",
    "    else:\n",
    "        print(\"Lipschitz hypothesis not satisfied with q =\", q)\n",
    "    return q\n",
    "        \n",
    "def check_phi_prime(interval):\n",
    "    x = x_values[interval]\n",
    "    xwave = x_values[interval + 1]\n",
    "    max_phi_prime = 0\n",
    "    cur_phi_prime = 0\n",
    "    for cur_x in np.linspace(x, xwave, 300):\n",
    "        cur_phi_prime = abs(phi_prime(cur_x))\n",
    "        if (cur_phi_prime > max_phi_prime):\n",
    "            max_phi_prime = cur_phi_prime\n",
    "    print(\"max|phi'(x)| =\", max_phi_prime)\n",
    "    return max_phi_prime\n",
    "\n",
    "#Solve the equation using simple iteration method\n",
    "\n",
    "def find_root(interval):\n",
    "    x_left = x_values[interval]\n",
    "    x_right = x_values[interval + 1]\n",
    "    lam = f(x_left) / f(x_right)\n",
    "    old_x = (x_left - lam * x_right) / (1 - lam)\n",
    "    #old_x = (x_left + x_right) / 2\n",
    "    new_x = phi(old_x)\n",
    "    m = abs(new_x - old_x)\n",
    "    print(\"x[0] =\", old_x, \"; x[1] =\", new_x)\n",
    "    num_iter = 1\n",
    "\n",
    "    while (abs(new_x - old_x) >= eps):\n",
    "        old_x = new_x\n",
    "        new_x = phi(old_x)\n",
    "        num_iter = num_iter + 1\n",
    "\n",
    "    print(\"X* =\", new_x, \"; f(X*) =\", f(new_x))\n",
    "    print(\"|x^(k+1) - x^k| =\", abs(new_x - old_x))\n",
    "    print(\"Number of iterations:\", num_iter)\n",
    "    return m\n",
    "\n",
    "for i in intervals:\n",
    "    interval = int(i)\n",
    "    print(\"Interval #\", interval + 1)\n",
    "    print(\"Interval borders:\", x_values[interval], x_values[interval + 1])\n",
    "    m = find_root(interval)\n",
    "    print()\n",
    "    q = check_Lipschitz(interval)\n",
    "    max_prime = check_phi_prime(interval)\n",
    "    print()\n",
    "    print(\"m =\", m)\n",
    "    print(\"q =\", q)\n",
    "    print(\"delta =\", delta)\n",
    "    print()\n",
    "    print(\"m / (1 - q) =\", abs(m / (1 - q)))\n",
    "    if abs(m / (1 - q)) <= delta:\n",
    "        print(\"m / (1 - q) <= delta\")\n",
    "    else:\n",
    "        print(\"m / (1 - q) > delta\")\n",
    "    print()\n",
    "    "
   ]
  }
 ],
 "metadata": {
  "kernelspec": {
   "display_name": "Python 3",
   "language": "python",
   "name": "python3"
  },
  "language_info": {
   "codemirror_mode": {
    "name": "ipython",
    "version": 3
   },
   "file_extension": ".py",
   "mimetype": "text/x-python",
   "name": "python",
   "nbconvert_exporter": "python",
   "pygments_lexer": "ipython3",
   "version": "3.7.0"
  }
 },
 "nbformat": 4,
 "nbformat_minor": 2
}
