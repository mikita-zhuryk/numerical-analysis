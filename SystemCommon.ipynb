{
 "cells": [
  {
   "cell_type": "code",
   "execution_count": 6,
   "metadata": {},
   "outputs": [],
   "source": [
    "import math\n",
    "import numpy as np\n",
    "import matplotlib.pyplot as plt\n",
    "\n",
    "def f1(x, y):\n",
    "    return y - 0.5 * x ** 2 + x - 0.5\n",
    "\n",
    "def y(x):\n",
    "    return 0.5 * x ** 2 - x + 0.5\n",
    "\n",
    "def f2(x, y):\n",
    "    return 2 * x + y - (y ** 3) / 6 - 1.6\n",
    "\n",
    "def f2y(x):\n",
    "    return 2 * x + y(x) - (y(x) ** 3) / 6 - 1.6\n",
    "\n",
    "grid_size_samples = 40\n",
    "\n",
    "x_values = np.linspace(0.0, 5.0, grid_size_samples)\n",
    "y_values = np.linspace(0.0, 5.0, grid_size_samples)\n",
    "\n",
    "xy_values = [(x, y) for x in x_values for y in y_values]"
   ]
  },
  {
   "cell_type": "code",
   "execution_count": 5,
   "metadata": {},
   "outputs": [
    {
     "name": "stdout",
     "output_type": "stream",
     "text": [
      "[[0.75757576 0.80808081]\n",
      " [3.78787879 3.83838384]]\n",
      "Interval: [0.7575757575757576; 0.8080808080808081]\n",
      "x^0 = 0.7886869946207978\n",
      "Root: x* = 0.7887389233900879; f(x*) = -0.00020838412266743767\n",
      "|x^(k+1) - x^k| = 5.1928769290054966e-05\n",
      "Number of iterations: 1\n",
      "\n",
      "Interval: [3.7878787878787876; 3.8383838383838382]\n",
      "x^0 = 3.7925530730153296\n",
      "Root: x* = 0.7907581259005912; f(x*) = 0.0034055843009634934\n",
      "|x^(k+1) - x^k| = 0.0008477876474144441\n",
      "Number of iterations: 22\n",
      "\n",
      "(0.7907581259005912, 0.021891080938316432)\n"
     ]
    }
   ],
   "source": [
    "from Newton import *\n",
    "\n",
    "root = find_all_roots(get_intervals(0.0, 5.0, f2y, 100), f2y, 10 ** -3)[0]\n",
    "\n",
    "point = (root, y(root))\n",
    "\n",
    "print(point)"
   ]
  }
 ],
 "metadata": {
  "kernelspec": {
   "display_name": "Python 3",
   "language": "python",
   "name": "python3"
  },
  "language_info": {
   "codemirror_mode": {
    "name": "ipython",
    "version": 3
   },
   "file_extension": ".py",
   "mimetype": "text/x-python",
   "name": "python",
   "nbconvert_exporter": "python",
   "pygments_lexer": "ipython3",
   "version": "3.7.0"
  }
 },
 "nbformat": 4,
 "nbformat_minor": 2
}
