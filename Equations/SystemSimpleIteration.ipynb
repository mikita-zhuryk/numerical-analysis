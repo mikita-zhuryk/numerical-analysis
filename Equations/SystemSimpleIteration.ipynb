{
 "cells": [
  {
   "cell_type": "code",
   "execution_count": 1,
   "metadata": {},
   "outputs": [
    {
     "name": "stdout",
     "output_type": "stream",
     "text": [
      "[0.83333333 3.61111111]\n",
      "[0.55555556 0.72530864]\n",
      "[array([0.83333333, 0.01388889]), array([3.61111111, 3.40895062])]\n"
     ]
    }
   ],
   "source": [
    "from SystemCommon import *"
   ]
  },
  {
   "cell_type": "code",
   "execution_count": 2,
   "metadata": {},
   "outputs": [
    {
     "name": "stdout",
     "output_type": "stream",
     "text": [
      "Starting point: [0.83333333 0.01388889]\n",
      "Deficiency before: [0.         0.08055511]\n",
      "[0.83333333 0.094444  ]\n",
      "[0.91388844 0.25541426]\n",
      "[1.1655951  0.73582835]\n",
      "[1.88771259 2.13644535]\n",
      "[3.63014112 4.82305113]\n",
      "[ 4.9943711  -3.39244185]\n",
      "[-6.37557099  8.11093609]\n",
      "[-25.46415862 -87.06201296]\n",
      "[  -462.70201737 109758.70303192]\n",
      "[ 1.78622056e+03 -2.20376686e+14]\n",
      "[-2.20376688e+14  1.78379810e+42]\n",
      "[ 1.78379810e+042 -9.45988458e+125]\n",
      "[-9.45988458e+125              inf]\n",
      "Simple iteration root: [inf nan]\n",
      "Deficiency after: [nan nan]\n",
      "Number of iterations: 14\n",
      "\n",
      "\n",
      "Starting point: [3.61111111 3.40895062]\n",
      "Deficiency before: [0.         2.42863529]\n",
      "[3.61111111 5.83758591]\n",
      "[  6.0397464  -15.85757331]\n",
      "[-22.51734881 643.36219756]\n",
      "[ 3.44312001e+02 -4.43816284e+07]\n",
      "[-4.44402156e+07  1.45699629e+22]\n",
      "[ 1.45699620e+22 -5.15494566e+65]\n",
      "[-5.15494566e+065  2.28307944e+196]\n",
      "[2.28307944e+196            -inf]\n",
      "Simple iteration root: [-inf  nan]\n",
      "Deficiency after: [nan nan]\n",
      "Number of iterations: 9\n",
      "\n",
      "\n",
      "[array([inf, nan]), array([-inf,  nan])]\n"
     ]
    },
    {
     "name": "stderr",
     "output_type": "stream",
     "text": [
      "C:\\BSU\\MNA\\SystemCommon.py:21: RuntimeWarning: overflow encountered in double_scalars\n",
      "  return 2 * x + y - (y ** 3) / 6 - 1.6\n",
      "C:\\BSU\\MNA\\SystemCommon.py:21: RuntimeWarning: invalid value encountered in double_scalars\n",
      "  return 2 * x + y - (y ** 3) / 6 - 1.6\n",
      "c:\\users\\admin\\appdata\\local\\programs\\python\\python37\\lib\\site-packages\\numpy\\core\\fromnumeric.py:83: RuntimeWarning: invalid value encountered in reduce\n",
      "  return ufunc.reduce(obj, axis, dtype, out, **passkwargs)\n",
      "C:\\BSU\\MNA\\SystemCommon.py:12: RuntimeWarning: overflow encountered in double_scalars\n",
      "  return y - 0.5 * x ** 2 + x - 0.5\n"
     ]
    }
   ],
   "source": [
    "def phi1(x, y):\n",
    "    return x + f1(x, y)\n",
    "\n",
    "def phi2(x, y):\n",
    "    return y + f2(x, y)\n",
    "\n",
    "def phi(x, y):\n",
    "    return np.array([phi1(x, y), phi2(x, y)], dtype=np.double)\n",
    "\n",
    "def phi1_xprime(x, y):\n",
    "    return 1 + f1_xprime(x, y)\n",
    "\n",
    "def phi1_yprime(x, y):\n",
    "    return f1_yprime(x, y)\n",
    "\n",
    "def phi2_xprime(x, y):\n",
    "    return f2_xprime(x, y)\n",
    "\n",
    "def phi2_yprime(x, y):\n",
    "    return 1 + f2_yprime(x, y)\n",
    "\n",
    "def dphi(x, y):\n",
    "    return np.eye(2) + df(x, y)\n",
    "\n",
    "def simpleIteration(phi, dphi, point, outerEps):\n",
    "    prevPoint = np.copy(point)\n",
    "    point = phi(prevPoint[0], prevPoint[1])\n",
    "    iterNum = 1\n",
    "    while (infNorm(point - prevPoint) >= outerEps):\n",
    "        prevPoint = np.copy(point)\n",
    "        print(prevPoint)\n",
    "        point = phi(prevPoint[0], prevPoint[1])\n",
    "        iterNum += 1\n",
    "    return (point, iterNum)\n",
    "\n",
    "if __name__ == '__main__':\n",
    "    roots = []\n",
    "\n",
    "    for point in points:\n",
    "        print(\"Starting point: \" + str(point))\n",
    "        print(\"Deficiency before: \" + str(f(point[0], point[1])))\n",
    "        (root, iterNum) = simpleIteration(phi, dphi, point, 10 ** -5)\n",
    "        print(\"Simple iteration root: \" + str(root))\n",
    "        if len(roots) == 0:\n",
    "            roots = [root]\n",
    "        else:\n",
    "            roots.append(root)\n",
    "        print(\"Deficiency after: \" + str(f(root[0], root[1])))\n",
    "        print(\"Number of iterations: \" + str(iterNum))\n",
    "        print(\"\\n\")\n",
    "\n",
    "    print(roots)"
   ]
  }
 ],
 "metadata": {
  "kernelspec": {
   "display_name": "Python 3",
   "language": "python",
   "name": "python3"
  },
  "language_info": {
   "codemirror_mode": {
    "name": "ipython",
    "version": 3
   },
   "file_extension": ".py",
   "mimetype": "text/x-python",
   "name": "python",
   "nbconvert_exporter": "python",
   "pygments_lexer": "ipython3",
   "version": "3.7.0"
  }
 },
 "nbformat": 4,
 "nbformat_minor": 2
}
