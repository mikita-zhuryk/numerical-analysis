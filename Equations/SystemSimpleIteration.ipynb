{
 "cells": [
  {
   "cell_type": "code",
   "execution_count": 1,
   "metadata": {},
   "outputs": [
    {
     "name": "stdout",
     "output_type": "stream",
     "text": [
      "x values for starting points: [0.78282828 3.81313131]\n",
      "Sphere radia: [0.05050505 0.07103867]\n",
      "Starting points: [[0.78282828 0.02358178]\n",
      " [3.81313131 3.95685389]]\n"
     ]
    }
   ],
   "source": [
    "from SystemCommon import *"
   ]
  },
  {
   "cell_type": "code",
   "execution_count": 2,
   "metadata": {},
   "outputs": [
    {
     "name": "stdout",
     "output_type": "stream",
     "text": [
      "Starting point: [0.78282828 0.02358178]\n",
      "Deficiency before: [ 0.         -0.01076384]\n",
      "C vector: [ 0.56073156 -0.56088752 -1.12177504  0.12180891]\n",
      "Iteration #2: [0.78886559 0.02227065]\n",
      "Iteration #3: [0.78885538 0.02229109]\n",
      "Simple iteration root: [0.78885541 0.02229102]\n",
      "Deficiency after: [-2.06040962e-10 -2.04281037e-12]\n",
      "Number of iterations: 3\n",
      "\n",
      "\n",
      "Starting point: [3.81313131 3.95685389]\n",
      "Deficiency before: [ 0.         -0.34209107]\n",
      "C vector: [0.39678845 0.05810901 0.11621802 0.16346828]\n",
      "Iteration #2: [3.79325274 3.90093285]\n",
      "Iteration #3: [3.79281652 3.8999033 ]\n",
      "Iteration #4: [3.79279978 3.89986497]\n",
      "Simple iteration root: [3.79279915 3.89986352]\n",
      "Deficiency after: [-1.28808213e-08 -3.22813787e-07]\n",
      "Number of iterations: 4\n",
      "\n",
      "\n",
      "[array([0.78885541, 0.02229102]), array([3.79279915, 3.89986352])]\n"
     ]
    }
   ],
   "source": [
    "c = np.zeros((1, 1))\n",
    "\n",
    "def getC(point):\n",
    "    global c\n",
    "    A = np.array([[f1_xprime(point[0], point[1]), f2_xprime(point[0], point[1]), 0, 0],\n",
    "                  [f1_yprime(point[0], point[1]), f2_yprime(point[0], point[1]), 0, 0],\n",
    "                  [0, 0, f1_xprime(point[0], point[1]), f2_xprime(point[0], point[1])],\n",
    "                  [0, 0, f1_yprime(point[0], point[1]), f2_yprime(point[0], point[1])]], dtype=np.double)\n",
    "    b = np.array([-1, 0, 0, -1])\n",
    "    c = np.linalg.solve(A, b)\n",
    "\n",
    "def phi1(x, y):\n",
    "    global c\n",
    "    return x + c[0] * f1(x, y) + c[1] * f2(x, y)\n",
    "\n",
    "def phi2(x, y):\n",
    "    global c\n",
    "    return y + c[2] * f1(x, y) + c[3] * f2(x, y)\n",
    "    \n",
    "def phi(x, y):\n",
    "    return np.array([phi1(x, y), phi2(x, y)], dtype=np.double)\n",
    "    \n",
    "def phi1_xprime(x, y):\n",
    "    global c\n",
    "    return 1 + c[0] * f1_xprime(x, y) + c[1] * f2_xprime(x, y)\n",
    "    \n",
    "def phi1_yprime(x, y):\n",
    "    global c\n",
    "    return c[0] * f1_yprime(x, y) + c[1] * f2_yprime(x, y)\n",
    "    \n",
    "def phi2_xprime(x, y):\n",
    "    global c\n",
    "    return c[2] * f1_xprime(x, y) + c[3] * f2_xprime(x, y)\n",
    "    \n",
    "def phi2_yprime(x, y):\n",
    "    global c\n",
    "    return 1 + c[2] * f1_yprime(x, y) + c[3] * f2_yprime(x, y)\n",
    "\n",
    "def simpleIteration(phi, point, outerEps):\n",
    "    prevPoint = np.copy(point)\n",
    "    point = phi(prevPoint[0], prevPoint[1])\n",
    "    iterNum = 1\n",
    "    while (infNorm(point - prevPoint) >= outerEps):\n",
    "        prevPoint = np.copy(point)\n",
    "        point = phi(prevPoint[0], prevPoint[1])\n",
    "        iterNum += 1\n",
    "        print(\"Iteration #{0}: {1}\".format(iterNum, prevPoint))\n",
    "    return (point, iterNum)\n",
    "\n",
    "if __name__ == '__main__':\n",
    "    roots = []\n",
    "\n",
    "    for point in points:\n",
    "        print(\"Starting point: \" + str(point))\n",
    "        print(\"Deficiency before: \" + str(f(point[0], point[1])))\n",
    "        getC(point)\n",
    "        print(\"C vector: \" + str(c))\n",
    "        (root, iterNum) = simpleIteration(phi, point, 10 ** -5)\n",
    "        print(\"Simple iteration root: \" + str(root))\n",
    "        if len(roots) == 0:\n",
    "            roots = [root]\n",
    "        else:\n",
    "            roots.append(root)\n",
    "        print(\"Deficiency after: \" + str(f(root[0], root[1])))\n",
    "        print(\"Number of iterations: \" + str(iterNum))\n",
    "        print(\"\\n\")\n",
    "\n",
    "    print(roots)"
   ]
  }
 ],
 "metadata": {
  "kernelspec": {
   "display_name": "Python 3",
   "language": "python",
   "name": "python3"
  },
  "language_info": {
   "codemirror_mode": {
    "name": "ipython",
    "version": 3
   },
   "file_extension": ".py",
   "mimetype": "text/x-python",
   "name": "python",
   "nbconvert_exporter": "python",
   "pygments_lexer": "ipython3",
   "version": "3.7.3"
  }
 },
 "nbformat": 4,
 "nbformat_minor": 2
}
