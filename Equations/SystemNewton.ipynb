{
 "cells": [
  {
   "cell_type": "code",
   "execution_count": 1,
   "metadata": {},
   "outputs": [
    {
     "name": "stdout",
     "output_type": "stream",
     "text": [
      "[0.83333333 3.61111111]\n",
      "[0.55555556 0.72530864]\n",
      "[array([0.83333333, 0.01388889]), array([3.61111111, 3.40895062])]\n"
     ]
    }
   ],
   "source": [
    "from SystemCommon import *"
   ]
  },
  {
   "cell_type": "code",
   "execution_count": 2,
   "metadata": {},
   "outputs": [
    {
     "name": "stdout",
     "output_type": "stream",
     "text": [
      "Starting point: [0.83333333 0.01388889]\n",
      "Deficiency before: [0.         0.08055511]\n",
      "Newton root: [0.78885541 0.02229102]\n",
      "Deficiency after: [-2.72004641e-15 -2.22044605e-16]\n",
      "Number of iterations: 3\n",
      "\n",
      "\n",
      "Starting point: [3.61111111 3.40895062]\n",
      "Deficiency before: [0.         2.42863529]\n",
      "Newton root: [3.79279912 3.89986347]\n",
      "Deficiency after: [-2.95274916e-12 -5.28204147e-11]\n",
      "Number of iterations: 4\n",
      "\n",
      "\n",
      "[array([0.78885541, 0.02229102]), array([3.79279912, 3.89986347])]\n"
     ]
    }
   ],
   "source": [
    "def systemNewton(f, df, point, outerEps):\n",
    "    def invert(A):\n",
    "        return np.linalg.inv(A)\n",
    "    \n",
    "    prevPoint = np.copy(point)\n",
    "    jacobi = df(prevPoint[0], prevPoint[1])\n",
    "    point = prevPoint - np.dot(invert(jacobi), f(prevPoint[0], prevPoint[1]))\n",
    "    iterNum = 1\n",
    "    while (infNorm(point - prevPoint) >= outerEps):\n",
    "        prevPoint = np.copy(point)\n",
    "        jacobi = df(prevPoint[0], prevPoint[1])\n",
    "        point = prevPoint - np.dot(invert(jacobi), f(prevPoint[0], prevPoint[1]))\n",
    "        iterNum += 1\n",
    "    return (point, iterNum)\n",
    "        \n",
    "if __name__ == '__main__':\n",
    "    roots = []\n",
    "\n",
    "    for point in points:\n",
    "        print(\"Starting point: \" + str(point))\n",
    "        print(\"Deficiency before: \" + str(f(point[0], point[1])))\n",
    "        (root, iterNum) = systemNewton(f, df, point, 10 ** -5)\n",
    "        print(\"Newton root: \" + str(root))\n",
    "        if len(roots) == 0:\n",
    "            roots = [root]\n",
    "        else:\n",
    "            roots.append(root)\n",
    "        print(\"Deficiency after: \" + str(f(root[0], root[1])))\n",
    "        print(\"Number of iterations: \" + str(iterNum))\n",
    "        print(\"\\n\")\n",
    "\n",
    "    print(roots)"
   ]
  }
 ],
 "metadata": {
  "kernelspec": {
   "display_name": "Python 3",
   "language": "python",
   "name": "python3"
  },
  "language_info": {
   "codemirror_mode": {
    "name": "ipython",
    "version": 3
   },
   "file_extension": ".py",
   "mimetype": "text/x-python",
   "name": "python",
   "nbconvert_exporter": "python",
   "pygments_lexer": "ipython3",
   "version": "3.7.0"
  }
 },
 "nbformat": 4,
 "nbformat_minor": 2
}
