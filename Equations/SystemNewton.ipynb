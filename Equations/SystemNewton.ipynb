{
 "cells": [
  {
   "cell_type": "code",
   "execution_count": 1,
   "metadata": {},
   "outputs": [
    {
     "name": "stdout",
     "output_type": "stream",
     "text": [
      "x values for starting points: [0.78282828 3.81313131]\n",
      "Sphere radia: [0.05050505 0.07103867]\n",
      "Starting points: [[0.78282828 0.02358178]\n",
      " [3.81313131 3.95685389]]\n"
     ]
    }
   ],
   "source": [
    "from SystemCommon import *"
   ]
  },
  {
   "cell_type": "code",
   "execution_count": 2,
   "metadata": {
    "scrolled": true
   },
   "outputs": [
    {
     "name": "stdout",
     "output_type": "stream",
     "text": [
      "Starting point: [0.78282828 0.02358178]\n",
      "Deficiency before: [ 0.         -0.01076384]\n",
      "(0.788855413987323395, 0.022291018049479104)\n",
      "(0.788855413960984908, 0.022291018106793549)\n",
      "Newton root: [0.78885541 0.02229102]\n",
      "Deficiency after: [0. 0.]\n",
      "Number of iterations: 3\n",
      "\n",
      "\n",
      "Starting point: [3.81313131 3.95685389]\n",
      "Deficiency before: [ 0.         -0.34209107]\n",
      "(3.792799298934621532, 3.899863859260823240)\n",
      "(3.792799122123207578, 3.899863468266064004)\n",
      "Newton root: [3.79279912 3.89986347]\n",
      "Deficiency after: [-1.55431223e-14 -2.97095681e-13]\n",
      "Number of iterations: 3\n",
      "\n",
      "\n"
     ]
    }
   ],
   "source": [
    "def systemNewton(f, df, point, outerEps):\n",
    "    def invert(A):\n",
    "        return np.linalg.inv(A)\n",
    "    \n",
    "    prevPoint = np.copy(point)\n",
    "    jacobi = df(prevPoint[0], prevPoint[1])\n",
    "    point = prevPoint - np.dot(invert(jacobi), f(prevPoint[0], prevPoint[1]))\n",
    "    iterNum = 1\n",
    "    while (infNorm(point - prevPoint) >= outerEps):\n",
    "        prevPoint = np.copy(point)\n",
    "        jacobi = df(prevPoint[0], prevPoint[1])\n",
    "        point = prevPoint - np.dot(invert(jacobi), f(prevPoint[0], prevPoint[1]))\n",
    "        print(\"({:20.18f}, {:20.18f})\".format(point[0], point[1]))\n",
    "        iterNum += 1\n",
    "    return (point, iterNum)\n",
    "        \n",
    "if __name__ == '__main__':\n",
    "    roots = []\n",
    "\n",
    "    for point in points:\n",
    "        print(\"Starting point: \" + str(point))\n",
    "        print(\"Deficiency before: \" + str(f(point[0], point[1])))\n",
    "        (root, iterNum) = systemNewton(f, df, point, 10 ** -5)\n",
    "        print(\"Newton root: \" + str(root))\n",
    "        if len(roots) == 0:\n",
    "            roots = [root]\n",
    "        else:\n",
    "            roots.append(root)\n",
    "        print(\"Deficiency after: \" + str(f(root[0], root[1])))\n",
    "        print(\"Number of iterations: \" + str(iterNum))\n",
    "        print(\"\\n\")"
   ]
  }
 ],
 "metadata": {
  "kernelspec": {
   "display_name": "Python 3",
   "language": "python",
   "name": "python3"
  },
  "language_info": {
   "codemirror_mode": {
    "name": "ipython",
    "version": 3
   },
   "file_extension": ".py",
   "mimetype": "text/x-python",
   "name": "python",
   "nbconvert_exporter": "python",
   "pygments_lexer": "ipython3",
   "version": "3.7.3"
  }
 },
 "nbformat": 4,
 "nbformat_minor": 2
}
