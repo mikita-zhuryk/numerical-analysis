{
 "cells": [
  {
   "cell_type": "code",
   "execution_count": null,
   "metadata": {},
   "outputs": [],
   "source": [
    "from SystemCommon import *"
   ]
  },
  {
   "cell_type": "code",
   "execution_count": null,
   "metadata": {},
   "outputs": [],
   "source": [
    "def gaussZeidel(f, point, outerEps, innerEps):\n",
    "    def NewtonNonLinear(f, f_prime, x0, epsilon):\n",
    "        old_x = x0\n",
    "        new_x = old_x - f(old_x) / f_prime(old_x)\n",
    "        while (abs(old_x - new_x) >= epsilon):\n",
    "            old_x = new_x\n",
    "            new_x = old_x - f(old_x) / f_prime(old_x)\n",
    "        return new_x\n",
    "    \n",
    "    prevPoint = np.copy(point)\n",
    "    \n",
    "    def f_sub1(x):\n",
    "        return f1(x, prevPoint[1])\n",
    "    \n",
    "    def f_sub1_prime(x):\n",
    "        return f1_xprime(x, prevPoint[1])\n",
    "\n",
    "    def f_sub2(y):\n",
    "        return f2(prevPoint[0], y)\n",
    "    \n",
    "    def f_sub2_prime(y):\n",
    "        return f2_yprime(prevPoint[0], y)\n",
    "\n",
    "    point[0] = NewtonNonLinear(f_sub1, f_sub1_prime, prevPoint[0], innerEps)\n",
    "    point[1] = NewtonNonLinear(f_sub2, f_sub2_prime, prevPoint[1], innerEps)\n",
    "    outerIter = 1\n",
    "    while (infNorm(point - prevPoint) >= outerEps):    \n",
    "        prevPoint = np.copy(point)\n",
    "        print(prevPoint)\n",
    "        point[0] = NewtonNonLinear(f_sub1, f_sub1_prime, prevPoint[0], innerEps)\n",
    "        point[1] = NewtonNonLinear(f_sub2, f_sub2_prime, prevPoint[1], innerEps)\n",
    "        outerIter += 1\n",
    "    return (point, outerIter)\n",
    "\n",
    "\n",
    "if __name__ == '__main__':\n",
    "    roots = []\n",
    "\n",
    "    for point in points:\n",
    "        print(\"Starting point: \" + str(point))\n",
    "        print(\"Deficiency before: \" + str(f(point[0], point[1])))\n",
    "        (root, iterNum) = gaussZeidel(f, point, 10 ** -5, 10 ** -4)\n",
    "        print(\"Gauss-Zeidel root: \" + str(root))\n",
    "        if len(roots) == 0:\n",
    "            roots = [root]\n",
    "        else:\n",
    "            roots.append(root)\n",
    "        print(\"Deficiency after: \" + str(f(root[0], root[1])))\n",
    "        print(\"Number of iterations: \" + str(iterNum))\n",
    "        print(\"\\n\")\n",
    "\n",
    "    print(roots)"
   ]
  }
 ],
 "metadata": {
  "kernelspec": {
   "display_name": "Python 3",
   "language": "python",
   "name": "python3"
  },
  "language_info": {
   "codemirror_mode": {
    "name": "ipython",
    "version": 3
   },
   "file_extension": ".py",
   "mimetype": "text/x-python",
   "name": "python",
   "nbconvert_exporter": "python",
   "pygments_lexer": "ipython3",
   "version": "3.7.0"
  }
 },
 "nbformat": 4,
 "nbformat_minor": 2
}
