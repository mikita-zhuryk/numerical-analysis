{
 "cells": [
  {
   "cell_type": "code",
   "execution_count": 1,
   "metadata": {},
   "outputs": [],
   "source": [
    "import math\n",
    "import numpy as np\n",
    "import matplotlib.pyplot as plt\n",
    "\n",
    "def f1(x, y):\n",
    "    return y - 0.5 * x ** 2 + x - 0.5\n",
    "\n",
    "def f1_xprime(x, y):\n",
    "    return -x + 1\n",
    "\n",
    "def f1_yprime(x, y):\n",
    "    return 1\n",
    "\n",
    "def f2(x, y):\n",
    "    return 2 * x + y - (y ** 3) / 6 - 1.6\n",
    "\n",
    "def f2_xprime(x, y):\n",
    "    return 2\n",
    "\n",
    "def f2_yprime(x, y):\n",
    "    return 1 - (y ** 2) / 2\n",
    "\n",
    "def f(x, y):\n",
    "    return np.array([f1(x, y), f2(x, y)], dtype=np.double)\n",
    "\n",
    "def df(x, y):\n",
    "    return np.array([[f1_xprime(x, y), f1_yprime(x, y)], [f2_xprime(x, y), f2_yprime(x, y)]], dtype=np.double)\n",
    "\n",
    "def ysub(x):\n",
    "    return 0.5 * x ** 2 - x + 0.5\n",
    "\n",
    "def ysub_prime(x):\n",
    "    return x - 1\n",
    "\n",
    "def f2_ysub(x):\n",
    "    return f2(x, ysub(x))\n",
    "\n",
    "def f2_ysub_prime(x):\n",
    "    return 2 + ysub_prime(x) - (ysub(x) ** 2) * ysub_prime(x) / 2\n",
    "\n",
    "def infNorm(x):\n",
    "    return np.max(np.abs(x))\n",
    "\n",
    "grid_size_samples = 40\n",
    "\n",
    "x_values = np.linspace(0.0, 5.0, grid_size_samples)\n",
    "y_values = np.linspace(0.0, 5.0, grid_size_samples)\n",
    "\n",
    "xy_values = [(x, y) for x in x_values for y in y_values]"
   ]
  },
  {
   "cell_type": "code",
   "execution_count": 2,
   "metadata": {},
   "outputs": [
    {
     "name": "stdout",
     "output_type": "stream",
     "text": [
      "[0.83333333 3.61111111]\n",
      "[0.55555556 0.72530864]\n",
      "Interval: [0.5555555555555556; 1.1111111111111112]\n",
      "x^0 = 0.7684042043795147\n",
      "Root: x* = 0.7889734760965557; f(x*) = 0.0002112092443580238\n",
      "|x^(k+1) - x^k| = 0.020569271717040927\n",
      "Number of iterations: 1\n",
      "\n",
      "Interval: [3.3333333333333335; 3.8888888888888893]\n",
      "x^0 = 3.730884576236668\n",
      "Root: x* = 3.7974823594115032; f(x*) = -0.0774225419407828\n",
      "|x^(k+1) - x^k| = 0.06659778317483545\n",
      "Number of iterations: 1\n",
      "\n",
      "[array([0.78897348, 0.0222661 ]), array([3.79748236, 3.91295378])]\n"
     ]
    }
   ],
   "source": [
    "import Newton\n",
    "\n",
    "intervals = Newton.get_intervals_table(0.0, 5.0, f2_ysub, 10)\n",
    "\n",
    "roots = np.array([(interval[0] + interval[1]) / 2 for interval in intervals])\n",
    "radia = np.array([max((ysub(interval[1]) - ysub(interval[0])) / 2, interval[1] - interval[0]) for interval in intervals])\n",
    "\n",
    "print(roots)\n",
    "print(radia)\n",
    "\n",
    "#roots = Newton.find_all_roots(f2_ysub, f2_ysub_prime, intervals, 10 ** -1)\n",
    "\n",
    "points = [np.array([root, ysub(root)], dtype = np.double) for root in roots]\n",
    "\n",
    "print(points)"
   ]
  }
 ],
 "metadata": {
  "kernelspec": {
   "display_name": "Python 3",
   "language": "python",
   "name": "python3"
  },
  "language_info": {
   "codemirror_mode": {
    "name": "ipython",
    "version": 3
   },
   "file_extension": ".py",
   "mimetype": "text/x-python",
   "name": "python",
   "nbconvert_exporter": "python",
   "pygments_lexer": "ipython3",
   "version": "3.7.0"
  }
 },
 "nbformat": 4,
 "nbformat_minor": 2
}
