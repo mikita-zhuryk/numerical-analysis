{
 "cells": [
  {
   "cell_type": "code",
   "execution_count": 1,
   "metadata": {},
   "outputs": [],
   "source": [
    "import math\n",
    "import numpy as np\n",
    "import matplotlib.pyplot as plt\n",
    "\n",
    "def f1(x, y):\n",
    "    return y - x ** 2 / 2 + x - 0.5\n",
    "\n",
    "def f1_xprime(x, y):\n",
    "    return -x + 1\n",
    "\n",
    "def f1_yprime(x, y):\n",
    "    return 1\n",
    "\n",
    "def f2(x, y):\n",
    "    return 2 * x + y - y ** 3 / 6 - 1.6\n",
    "\n",
    "def f2_xprime(x, y):\n",
    "    return 2\n",
    "\n",
    "def f2_yprime(x, y):\n",
    "    return -y ** 2 / 2 + 1\n",
    "\n",
    "def f(x, y):\n",
    "    return np.array([f1(x, y), f2(x, y)], dtype=np.double)\n",
    "\n",
    "def df(x, y):\n",
    "    return np.array([[f1_xprime(x, y), f1_yprime(x, y)], [f2_xprime(x, y), f2_yprime(x, y)]], dtype=np.double)\n",
    "\n",
    "def ysub(x):\n",
    "    return 0.5 * x ** 2 - x + 0.5\n",
    "\n",
    "def ysub_prime(x):\n",
    "    return x - 1\n",
    "\n",
    "def f2_ysub(x):\n",
    "    return f2(x, ysub(x))\n",
    "\n",
    "def f2_ysub_prime(x):\n",
    "    return 2 + ysub_prime(x) - (ysub(x) ** 2) * ysub_prime(x) / 2\n",
    "\n",
    "def infNorm(x):\n",
    "    return np.max(np.abs(x))"
   ]
  },
  {
   "cell_type": "code",
   "execution_count": 2,
   "metadata": {},
   "outputs": [
    {
     "name": "stdout",
     "output_type": "stream",
     "text": [
      "x values for starting points: [0.78282828 3.81313131]\n",
      "Sphere radia: [0.05050505 0.07103867]\n",
      "Starting points: [[0.78282828 0.02358178]\n",
      " [3.81313131 3.95685389]]\n"
     ]
    }
   ],
   "source": [
    "import Newton\n",
    "\n",
    "intervals = Newton.get_intervals_table(0.0, 5.0, f2_ysub, 100)\n",
    "\n",
    "roots = np.array([(interval[0] + interval[1]) / 2 for interval in intervals])\n",
    "radii = np.array([max((ysub(interval[1]) - ysub(interval[0])) / 2, interval[1] - interval[0]) for interval in intervals])\n",
    "\n",
    "print(\"x values for starting points: \" + str(roots))\n",
    "print(\"Sphere radia: \" + str(radii))\n",
    "\n",
    "points = np.array([(root, ysub(root)) for root in roots], dtype=np.double)\n",
    "\n",
    "print(\"Starting points: \" + str(points))"
   ]
  }
 ],
 "metadata": {
  "kernelspec": {
   "display_name": "Python 3",
   "language": "python",
   "name": "python3"
  },
  "language_info": {
   "codemirror_mode": {
    "name": "ipython",
    "version": 3
   },
   "file_extension": ".py",
   "mimetype": "text/x-python",
   "name": "python",
   "nbconvert_exporter": "python",
   "pygments_lexer": "ipython3",
   "version": "3.7.3"
  }
 },
 "nbformat": 4,
 "nbformat_minor": 2
}
