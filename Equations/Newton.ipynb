{
 "cells": [
  {
   "cell_type": "code",
   "execution_count": 1,
   "metadata": {
    "scrolled": true
   },
   "outputs": [],
   "source": [
    "from Common import *"
   ]
  },
  {
   "cell_type": "code",
   "execution_count": 2,
   "metadata": {},
   "outputs": [],
   "source": [
    "#Solve the equation using Newton method\n",
    "\n",
    "def find_all_roots(f, f_prime, intervals, epsilon):\n",
    "    def find_root(interval):\n",
    "        x_left = interval[0]\n",
    "        x_right = interval[1]\n",
    "        lam = f(x_left) / f(x_right)\n",
    "        x_0 = old_x = (x_left - lam * x_right) / (1 - lam)\n",
    "        #x_0 = old_x = (x_left + x_right) / 2\n",
    "        new_x = old_x - f(old_x) / f_prime(old_x)\n",
    "        iter_num = 1\n",
    "        while (abs(old_x - new_x) >= eps):\n",
    "            old_x = new_x\n",
    "            #print(new_x)\n",
    "            new_x = old_x - f(old_x) / f_prime(old_x)\n",
    "            iter_num += 1\n",
    "        return (old_x, new_x, iter_num, x_0)\n",
    "    global eps\n",
    "    eps = epsilon\n",
    "    roots = np.array([])\n",
    "    for interval in intervals:\n",
    "        (x_k, x_k1, iter_num, x_0) = find_root(interval)\n",
    "        print(\"Interval: [{}; {}]\\nx^0 = {}\\nRoot: x* = {}; f(x*) = {}\\n|x^(k+1) - x^k| = {}\\nNumber of iterations: {}\\n\"\n",
    "              .format(interval[0], interval[1], x_0, x_k1, f(x_k1), abs(x_k - x_k1), iter_num))\n",
    "        roots = np.append(roots, x_k1)\n",
    "    return roots"
   ]
  },
  {
   "cell_type": "code",
   "execution_count": 3,
   "metadata": {},
   "outputs": [
    {
     "name": "stdout",
     "output_type": "stream",
     "text": [
      "Interval: [0.01; 0.1673684210526316]\n",
      "x^0 = 0.08868421052631581\n",
      "Root: x* = 0.07186304228921055; f(x*) = 3.552713678800501e-15\n",
      "|x^(k+1) - x^k| = 2.5078550347501505e-13\n",
      "Number of iterations: 5\n",
      "\n",
      "Interval: [1.7410526315789476; 1.8984210526315792]\n",
      "x^0 = 1.8197368421052635\n",
      "Root: x* = 1.8832389908008633; f(x*) = 0.0\n",
      "|x^(k+1) - x^k| = 0.0\n",
      "Number of iterations: 4\n",
      "\n",
      "-0.12942998486317597\n",
      "-0.00022113804402974617\n",
      "1.88301784772424\n",
      "-1.0708236626295677\n",
      "-1.0709293413775358\n",
      "0.00047364643969258517\n",
      "5.202479912227185\n",
      "\n",
      "1.0004713925101845\n"
     ]
    }
   ],
   "source": [
    "if __name__ == \"__main__\":\n",
    "    intervals = get_intervals_table(left_border, right_border, f, samples)\n",
    "    find_all_roots(f, f_prime, intervals, eps)\n",
    "    \n",
    "    print(-(f(0.14134905726406316) / f_prime(0.14134905726406316)))\n",
    "    h_0 = -(f(1.8834601238122997) / f_prime(1.8834601238122997))\n",
    "    print(h_0)\n",
    "\n",
    "    def f_double_prime(x):\n",
    "        return -6 * math.log(x) / x ** 2\n",
    "\n",
    "    x_0 = 1.8834601238122997\n",
    "    x_1 = x_0 + h_0\n",
    "\n",
    "    print(x_0 + 2 * h_0)\n",
    "\n",
    "    print(f_double_prime(x_0))\n",
    "    print(f_double_prime(x_0 + 2 * h_0))\n",
    "    M = max(abs(f_double_prime(x_0)), abs(f_double_prime(x_0 + 2 * h_0)))\n",
    "    print(2 * abs(h_0) * M)\n",
    "    print(f_prime(x_0))\n",
    "    print()\n",
    "\n",
    "    alpha = 0.2058310407946963193\n",
    "\n",
    "    k = math.log2(math.log(alpha * eps) / math.log(alpha * abs(x_1 - x_0)))\n",
    "\n",
    "    print(k)"
   ]
  }
 ],
 "metadata": {
  "kernelspec": {
   "display_name": "Python 3",
   "language": "python",
   "name": "python3"
  },
  "language_info": {
   "codemirror_mode": {
    "name": "ipython",
    "version": 3
   },
   "file_extension": ".py",
   "mimetype": "text/x-python",
   "name": "python",
   "nbconvert_exporter": "python",
   "pygments_lexer": "ipython3",
   "version": "3.7.3"
  }
 },
 "nbformat": 4,
 "nbformat_minor": 2
}
