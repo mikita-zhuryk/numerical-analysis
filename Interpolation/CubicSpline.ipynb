{
 "cells": [
  {
   "cell_type": "code",
   "execution_count": 1,
   "metadata": {},
   "outputs": [
    {
     "name": "stdout",
     "output_type": "stream",
     "text": [
      "S3(1.0384615384615385) = 0.5760276330461487\n",
      "\n",
      "r3(1.0384615384615385) = -0.0006477719097222057\n",
      "\n",
      "Expected deficiency on whole interval: 0.0048253950499914525\n",
      "Real deficiency in control points: 0.0006477719097222057\n"
     ]
    }
   ],
   "source": [
    "import numpy as np\n",
    "from math import exp, log, factorial\n",
    "import matplotlib.pyplot as plt\n",
    "\n",
    "a = 1.0\n",
    "b = 2.0\n",
    "N = 10\n",
    "delta = (b - a) / N\n",
    "alpha = 1.7\n",
    "\n",
    "points = [a + i * delta for i in range(N + 1)]\n",
    "\n",
    "def f(x):\n",
    "    return alpha * exp(-x) + (1 - alpha) * log(x)\n",
    "\n",
    "def fDeriv4(x):\n",
    "    return alpha * exp(-x) - (1 - alpha) * factorial(3) / x ** 4\n",
    "\n",
    "def maxDeriv4(samples):\n",
    "    space = np.linspace(a, b, samples)\n",
    "    return np.max(np.abs(np.array([(fDeriv4(x)) for x in space], dtype=np.double)))\n",
    "\n",
    "def S3(M, k):\n",
    "    return lambda x: (M[k - 1] * (points[k] - x) ** 3 / (6 * delta) + M[k] * (x - points[k - 1]) ** 3 / (6 * delta) \n",
    "    + (x - points[k - 1]) * (f(points[k]) - M[k] * delta ** 2 / 6) / delta\n",
    "    + (points[k] - x) * (f(points[k - 1]) - M[k - 1] * delta ** 2 / 6) / delta)\n",
    "        \n",
    "def findMoments():\n",
    "    A = np.zeros((N + 1, N + 1), dtype = np.double)\n",
    "    b = np.zeros(N + 1, dtype = np.double)\n",
    "    A[0][0] = A[N][N] = 1\n",
    "    b[0] = b[N] = 0\n",
    "    for i in range(1, N):\n",
    "        A[i][i - 1] = delta / 6\n",
    "        A[i][i] = 2 * delta / 3\n",
    "        A[i][i + 1] = delta / 6\n",
    "        b[i] = (f(points[i + 1]) - f(points[i])) / delta - (f(points[i]) - f(points[i - 1])) / delta\n",
    "    return np.linalg.solve(A, b)\n",
    "\n",
    "def deficiency():\n",
    "    return maxDeriv4(10000) * delta ** 3\n",
    "\n",
    "if __name__ == \"__main__\":\n",
    "    M = findMoments()\n",
    "    \n",
    "    check = [points[0] + delta / 2.6]\n",
    "    \n",
    "    [print(\"S3({0}) = {1}\".format(x, S3(M, 1)(x))) for x in check]\n",
    "    print()\n",
    "    \n",
    "    [print(\"r3({0}) = {1}\".format(x, f(x) - S3(M, 1)(x))) for x in check]\n",
    "    print()\n",
    "    \n",
    "    print(\"Expected deficiency on whole interval: \" + str(deficiency()))\n",
    "    \n",
    "    print(\"Real deficiency in control points: \" + \n",
    "          str(np.max(np.abs(np.array([(f(x) - S3(M, 1)(x)) for x in check], dtype=np.double)))))"
   ]
  }
 ],
 "metadata": {
  "kernelspec": {
   "display_name": "Python 3",
   "language": "python",
   "name": "python3"
  },
  "language_info": {
   "codemirror_mode": {
    "name": "ipython",
    "version": 3
   },
   "file_extension": ".py",
   "mimetype": "text/x-python",
   "name": "python",
   "nbconvert_exporter": "python",
   "pygments_lexer": "ipython3",
   "version": "3.7.3"
  }
 },
 "nbformat": 4,
 "nbformat_minor": 2
}
