{
 "cells": [
  {
   "cell_type": "code",
   "execution_count": 1,
   "metadata": {},
   "outputs": [
    {
     "name": "stdout",
     "output_type": "stream",
     "text": [
      "Pn(1.0384615384615385) = 0.5753798661146213\n",
      "Pn(1.5384615384615385) = 0.06346095167693702\n",
      "Pn(1.9384615384615385) = -0.21865340262681945\n",
      "\n",
      "rn(1.0384615384615385) = 4.9781948563421e-09\n",
      "rn(1.5384615384615385) = -3.9230313442217835e-11\n",
      "rn(1.9384615384615385) = -1.66610031326897e-09\n",
      "\n",
      "M: 2540160.62539505\n",
      "\n",
      "Expected deficiency: 2.488401414092507e-07\n",
      "Real deficiency on whole interval: 5.350829113126565e-09\n",
      "\n",
      "Real deficiency on control points: 4.9781948563421e-09\n"
     ]
    },
    {
     "data": {
      "text/plain": [
       "<Figure size 640x480 with 1 Axes>"
      ]
     },
     "metadata": {},
     "output_type": "display_data"
    }
   ],
   "source": [
    "import numpy as np\n",
    "from math import exp, log, factorial\n",
    "import matplotlib.pyplot as plt\n",
    "\n",
    "a = 1.0\n",
    "b = 2.0\n",
    "N = 10\n",
    "delta = (b - a) / N\n",
    "alpha = 1.7\n",
    "\n",
    "points = [a + i * delta for i in range(N + 1)]\n",
    "\n",
    "def f(x):\n",
    "    return alpha * exp(-x) + (1 - alpha) * log(x)\n",
    "\n",
    "def fDerivN1(x):\n",
    "    return (-1) ** (N + 1) * alpha * exp(-x) + (1 - alpha) * ((-1) ** (N)) * factorial(N) / x ** (N + 1)\n",
    "\n",
    "def maxDerivN1(samples):\n",
    "    space = np.linspace(a, b, samples)\n",
    "    return np.max(np.abs(np.array([(fDerivN1(x)) for x in space], dtype=np.double)))\n",
    "\n",
    "def omega(k, x):\n",
    "    global points\n",
    "    result = 1\n",
    "    for i in range(N + 1):\n",
    "        if i != k:\n",
    "            result *= (x - points[i])\n",
    "    return result\n",
    "\n",
    "def denominator(k):\n",
    "    global points\n",
    "    result = 1\n",
    "    for i in range(N + 1):\n",
    "        if i != k:\n",
    "            result *= (points[k] - points[i])\n",
    "    return result\n",
    "\n",
    "def l(k):\n",
    "    return lambda x: omega(k, x) / denominator(k)\n",
    "\n",
    "def LagrangePolynomial(x):\n",
    "    result = 0\n",
    "    for i in range(N + 1):\n",
    "        result += l(i)(x) * f(points[i])\n",
    "    return result\n",
    "\n",
    "def deficiency(x):\n",
    "    return maxDerivN1(10000) * omega(-1, x) / factorial(N + 1)\n",
    "\n",
    "def plotDifference(samples):\n",
    "    space = np.linspace(a, b, samples)\n",
    "    plt.plot(space, np.zeros(np.shape(space)))\n",
    "    plt.plot(space, np.array([LagrangePolynomial(x) - f(x) for x in space], dtype=np.double))\n",
    "    plt.savefig(\"../TeX/Interpolation/LagrangeDiff.png\")\n",
    "    plt.show()\n",
    "    \n",
    "if __name__ == '__main__':\n",
    "\n",
    "    check = [points[0] + delta / 2.6, \n",
    "             points[5] + delta / 2.6,\n",
    "             points[9] + delta / 2.6]\n",
    "    \n",
    "    [print(\"Pn({0}) = {1}\".format(x, LagrangePolynomial(x))) for x in check]\n",
    "    print()\n",
    "    [print(\"rn({0}) = {1}\".format(x, LagrangePolynomial(x) - f(x))) for x in check]\n",
    "    print()\n",
    "\n",
    "    print(\"M: \" + str(maxDerivN1(10000)))\n",
    "    print()\n",
    "    \n",
    "    print(\"Expected deficiency: \" + \n",
    "          str(np.max(np.abs(np.array([(deficiency(x)) for x in check], dtype=np.double)))))\n",
    "    \n",
    "    space = np.linspace(a, b, 1000)\n",
    "    print(\"Real deficiency on whole interval: \" + \n",
    "          str(np.max(np.abs(np.array([(LagrangePolynomial(x) - f(x)) for x in space], dtype=np.double)))))\n",
    "    print()\n",
    "    \n",
    "    print(\"Real deficiency on control points: \" + \n",
    "          str(np.max(np.abs(np.array([(LagrangePolynomial(x) - f(x)) for x in check], dtype=np.double)))))\n",
    "    \n",
    "    plotDifference(1000)"
   ]
  }
 ],
 "metadata": {
  "kernelspec": {
   "display_name": "Python 3",
   "language": "python",
   "name": "python3"
  },
  "language_info": {
   "codemirror_mode": {
    "name": "ipython",
    "version": 3
   },
   "file_extension": ".py",
   "mimetype": "text/x-python",
   "name": "python",
   "nbconvert_exporter": "python",
   "pygments_lexer": "ipython3",
   "version": "3.7.3"
  }
 },
 "nbformat": 4,
 "nbformat_minor": 2
}
