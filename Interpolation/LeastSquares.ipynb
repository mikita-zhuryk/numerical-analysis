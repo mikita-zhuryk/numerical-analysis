{
 "cells": [
  {
   "cell_type": "code",
   "execution_count": 2,
   "metadata": {},
   "outputs": [
    {
     "name": "stdout",
     "output_type": "stream",
     "text": [
      "A:\n",
      "[[  1.           1.5          2.335        3.7575       6.22333\n",
      "   10.562475  ]\n",
      " [  1.5          2.335        3.7575       6.22333     10.562475\n",
      "   18.2977405 ]\n",
      " [  2.335        3.7575       6.22333     10.562475    18.2977405\n",
      "   32.24206275]\n",
      " [  3.7575       6.22333     10.562475    18.2977405   32.24206275\n",
      "   57.62299933]\n",
      " [  6.22333     10.562475    18.2977405   32.24206275  57.62299933\n",
      "  104.2080975 ]\n",
      " [ 10.562475    18.2977405   32.24206275  57.62299933 104.2080975\n",
      "  190.33657339]]\n",
      "b:\n",
      "[ 0.1255399   0.11457826  0.07412306 -0.02777794 -0.25388979 -0.72668312]\n",
      "c:\n",
      "[ 3.04885128 -4.12993741  2.50358825 -1.01080971  0.23814613 -0.02444771]\n",
      "ф(x) = 3.048851280886609 - 4.129937412444065x + 2.503588248171199x^2 - 1.0108097110105916x^3 + 0.23814612727402626x^4 - 0.024447705239081054x^5 \n",
      "Maximum deficiency: 8.216176112130213e-06\n"
     ]
    },
    {
     "data": {
      "image/png": "[encoded data removed]",
      "text/plain": [
       "<Figure size 432x288 with 1 Axes>"
      ]
     },
     "metadata": {
      "needs_background": "light"
     },
     "output_type": "display_data"
    }
   ],
   "source": [
    "import numpy as np\n",
    "from math import exp, log\n",
    "import matplotlib.pyplot as plt\n",
    "\n",
    "a = 1.0\n",
    "b = 2.0\n",
    "N = 10\n",
    "delta = (b - a) / N\n",
    "n = 5\n",
    "alpha = 1.7\n",
    "\n",
    "points = [a + i * delta for i in range(N + 1)]\n",
    "\n",
    "def l2scalar(f, g):\n",
    "    values = [f(point) * g(point) for point in points]\n",
    "    return np.trapz(values, points)\n",
    "\n",
    "def l2norm(f):\n",
    "    return l2scalar(f, f)\n",
    "\n",
    "def f(x):\n",
    "    return alpha * exp(-x) + (1 - alpha) * log(x)\n",
    "\n",
    "def phi(i):\n",
    "    return lambda x: x ** i\n",
    "\n",
    "def getPhi(c):\n",
    "    phi = \"ф(x) = \"\n",
    "    for i in range(len(c)):\n",
    "        if c[i] < 0:\n",
    "            phi += \"- \" + str(abs(c[i]))\n",
    "        else:\n",
    "            if i != 0:\n",
    "                phi += \"+ \"\n",
    "            phi += str(c[i])\n",
    "        if i != 0:\n",
    "            phi += \"x\"\n",
    "            if i != 1:\n",
    "                phi += \"^\" + str(i)\n",
    "        phi += \" \"\n",
    "    return phi\n",
    "\n",
    "def solution(x, c):\n",
    "    value = 0.0\n",
    "    for i in range(len(c)):\n",
    "        value += c[i] * phi(i)(x)\n",
    "    return value\n",
    "\n",
    "def plotDifference(samples):\n",
    "    space = np.linspace(a, b, samples)\n",
    "    plt.plot(space, np.zeros(np.shape(space)))\n",
    "    plt.plot(space, np.array([solution(x, c) - f(x) for x in space], dtype=np.double))\n",
    "    plt.show()\n",
    "    \n",
    "if __name__ == '__main__':\n",
    "    A = np.array([[l2scalar(phi(i), phi(j)) for j in range(n + 1)] for i in range(n + 1)],\n",
    "                 dtype = np.double)\n",
    "    B = np.array([l2scalar(f, phi(i)) for i in range(n + 1)], dtype = np.double)\n",
    "\n",
    "    print(\"A:\\n\" + str(A))\n",
    "    print(\"b:\\n\" + str(B))\n",
    "\n",
    "    c = np.linalg.solve(A, B)\n",
    "\n",
    "    print(\"c:\\n\" + str(c))\n",
    "    \n",
    "    print(getPhi(c))\n",
    "\n",
    "    check = [points[0] + delta / 2.6, \n",
    "             points[5] + delta / 2.6,\n",
    "             points[9] + delta / 2.6]\n",
    "\n",
    "    print(\"Maximum deficiency: \" + \n",
    "          str(np.max(np.abs(np.array([(solution(point, c) - f(point)) for point in check], dtype=np.double)))))\n",
    "    \n",
    "    plotDifference(1000)"
   ]
  }
 ],
 "metadata": {
  "kernelspec": {
   "display_name": "Python 3",
   "language": "python",
   "name": "python3"
  },
  "language_info": {
   "codemirror_mode": {
    "name": "ipython",
    "version": 3
   },
   "file_extension": ".py",
   "mimetype": "text/x-python",
   "name": "python",
   "nbconvert_exporter": "python",
   "pygments_lexer": "ipython3",
   "version": "3.7.0"
  }
 },
 "nbformat": 4,
 "nbformat_minor": 2
}
