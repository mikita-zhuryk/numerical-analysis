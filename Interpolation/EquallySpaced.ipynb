{
 "cells": [
  {
   "cell_type": "code",
   "execution_count": 2,
   "metadata": {},
   "outputs": [
    {
     "name": "stdout",
     "output_type": "stream",
     "text": [
      "Pn(1.0384615384615385) = 0.5753931462430032\n",
      "\n",
      "rn(1.0384615384615385) = 1.328510657672144e-05\n",
      "\n",
      "Expected deficiency in control points: 2.0105108747907392e-05\n",
      "Real deficiency on whole interval: 1.329082616186028e-05\n",
      "\n",
      "Real deficiency in control points: 1.328510657672144e-05\n"
     ]
    },
    {
     "data": {
      "image/png": "[encoded data removed]",
      "text/plain": [
       "<Figure size 432x288 with 1 Axes>"
      ]
     },
     "metadata": {
      "needs_background": "light"
     },
     "output_type": "display_data"
    }
   ],
   "source": [
    "import numpy as np\n",
    "from math import exp, log, factorial\n",
    "import matplotlib.pyplot as plt\n",
    "\n",
    "a = 1.0\n",
    "b = 1.3\n",
    "N = 3\n",
    "delta = (b - a) / N\n",
    "alpha = 1.7\n",
    "\n",
    "points = [a + i * delta for i in range(N + 1)]\n",
    "\n",
    "def f(x):\n",
    "    return alpha * exp(-x) + (1 - alpha) * log(x)\n",
    "\n",
    "def fDerivN1(x):\n",
    "    return (-1) ** (N + 1) * alpha * exp(-x) + (1 - alpha) * ((-1) ** (N)) * factorial(N) / x ** (N + 1)\n",
    "\n",
    "def maxDerivN1(samples):\n",
    "    space = np.linspace(a, b, samples)\n",
    "    return np.max(np.abs(np.array([(fDerivN1(x)) for x in space], dtype=np.double)))\n",
    "\n",
    "def buildNewtonDiffs(points, f):\n",
    "    A = np.zeros((N + 1, N + 2), dtype=np.double)\n",
    "    for i in range(N + 1):\n",
    "        A[i][0] = points[i]\n",
    "        A[i][1] = f(points[i])\n",
    "    for j in range(2, N + 2):\n",
    "        for i in range(j - 1, N + 1):\n",
    "            A[i][j] = (A[i][j - 1] - A[i - 1][j - 1]) / (A[i][0] - A[i - j + 1][0])\n",
    "    return A\n",
    "\n",
    "def buildDiffs(points, f):\n",
    "    A = buildNewtonDiffs(points, f)\n",
    "    return np.array([A[i][i + 1] * factorial(i) * delta ** i for i in range(N + 1)], dtype=np.double)\n",
    "\n",
    "def prod(i):\n",
    "    return lambda x: np.prod(np.array([(x - j) for j in range(i)], dtype=np.double))\n",
    "\n",
    "def getSolution(diffs, points):\n",
    "    return lambda x: np.sum(np.array([diffs[i] * prod(i)((x - points[0]) / delta) / factorial(i) for i in range(N + 1)],\n",
    "                                     dtype=np.double))\n",
    "\n",
    "def deficiency(x, diffs, points):\n",
    "    t = (x - points[0]) / delta\n",
    "    return abs(prod(N + 1)(t) * maxDerivN1(10000) * delta ** (N + 1) / factorial(N + 1))\n",
    "\n",
    "def plotDifference(samples, solution):\n",
    "    space = np.linspace(a, b, samples)\n",
    "    plt.plot(space, np.zeros(np.shape(space)))\n",
    "    plt.plot(space, np.array([solution(x) - f(x) for x in space], dtype=np.double))\n",
    "    plt.savefig(\"../TeX/Interpolation/EquallySpacedDiff.png\")\n",
    "    plt.show()\n",
    "\n",
    "if __name__ == \"__main__\":\n",
    "    diffs = buildDiffs(points, f)\n",
    "    solution = getSolution(diffs, points)\n",
    "    \n",
    "    check = [points[0] + delta / 2.6]\n",
    "    \n",
    "    [print(\"Pn({0}) = {1}\".format(x, solution(x))) for x in check]\n",
    "    print()\n",
    "    \n",
    "    [print(\"rn({0}) = {1}\".format(x, solution(x) - f(x))) for x in check]\n",
    "    print()\n",
    "    \n",
    "    print(\"Expected deficiency in control points: \" + \n",
    "          str(np.max(np.abs(np.array([(deficiency(x, diffs, points)) for x in check], dtype=np.double)))))\n",
    "    \n",
    "    space = np.linspace(a, b, 1000)\n",
    "    print(\"Real deficiency on whole interval: \" + \n",
    "          str(np.max(np.abs(np.array([(solution(x) - f(x)) for x in space], dtype=np.double)))))\n",
    "    print()\n",
    "    \n",
    "    print(\"Real deficiency in control points: \" + \n",
    "          str(np.max(np.abs(np.array([(solution(x) - f(x)) for x in check], dtype=np.double)))))\n",
    "    \n",
    "    plotDifference(1000, solution)"
   ]
  }
 ],
 "metadata": {
  "kernelspec": {
   "display_name": "Python 3",
   "language": "python",
   "name": "python3"
  },
  "language_info": {
   "codemirror_mode": {
    "name": "ipython",
    "version": 3
   },
   "file_extension": ".py",
   "mimetype": "text/x-python",
   "name": "python",
   "nbconvert_exporter": "python",
   "pygments_lexer": "ipython3",
   "version": "3.7.3"
  }
 },
 "nbformat": 4,
 "nbformat_minor": 2
}
