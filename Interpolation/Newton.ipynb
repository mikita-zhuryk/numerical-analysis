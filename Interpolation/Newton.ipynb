{
 "cells": [
  {
   "cell_type": "code",
   "execution_count": 1,
   "metadata": {},
   "outputs": [
    {
     "name": "stdout",
     "output_type": "stream",
     "text": [
      "Pn(1.0384615384615385) = 0.5753798661146216\n",
      "Pn(1.5384615384615385) = 0.06346095167693704\n",
      "Pn(1.9384615384615385) = -0.21865340262681887\n",
      "\n",
      "rn(1.0384615384615385) = 4.978195078386705e-09\n",
      "rn(1.5384615384615385) = -3.9230299564430027e-11\n",
      "rn(1.9384615384615385) = -1.666099730401882e-09\n",
      "\n",
      "Real deficiency on whole interval: 5.350829557215775e-09\n",
      "\n",
      "Expected deficiency in control points: 4.978195167117301e-09\n",
      "\n",
      "Real deficiency on control points: 4.978195078386705e-09\n"
     ]
    },
    {
     "data": {
      "text/plain": [
       "<Figure size 640x480 with 1 Axes>"
      ]
     },
     "metadata": {},
     "output_type": "display_data"
    }
   ],
   "source": [
    "import numpy as np\n",
    "from math import exp, log, factorial\n",
    "import matplotlib.pyplot as plt\n",
    "\n",
    "a = 1.0\n",
    "b = 2.0\n",
    "N = 10\n",
    "delta = (b - a) / N\n",
    "alpha = 1.7\n",
    "\n",
    "points = [a + i * delta for i in range(N + 1)]\n",
    "\n",
    "def f(x):\n",
    "    return alpha * exp(-x) + (1 - alpha) * log(x)\n",
    "\n",
    "def omega(k, x):\n",
    "    global points\n",
    "    result = 1\n",
    "    for i in range(N + 1):\n",
    "        if i != k:\n",
    "            result *= (x - points[i])\n",
    "    return result\n",
    "\n",
    "def buildDiffs(points, f):\n",
    "    A = np.zeros((N + 1, N + 2), dtype=np.double)\n",
    "    for i in range(N + 1):\n",
    "        A[i][0] = points[i]\n",
    "        A[i][1] = f(points[i])\n",
    "    for j in range(2, N + 2):\n",
    "        for i in range(j - 1, N + 1):\n",
    "            A[i][j] = (A[i][j - 1] - A[i - 1][j - 1]) / (A[i][0] - A[i - j + 1][0])\n",
    "    return A\n",
    "\n",
    "def prod(i, points):\n",
    "    return lambda x: np.prod(np.array([(x - points[j]) for j in range(i)], dtype=np.double))\n",
    "\n",
    "def getSolution(diffs, points):\n",
    "    return lambda x: np.sum(np.array([diffs[i][i + 1] * prod(i, points)(x) for i in range(N + 1)], dtype=np.double))\n",
    "\n",
    "def xDiff(x, diffs, points, n):\n",
    "    if n == 0:\n",
    "        return (f(points[0]) - f(x)) / (points[0] - x)\n",
    "    return (diffs[n][n + 1] - xDiff(x, diffs, points, n - 1)) / (points[n] - x)\n",
    "\n",
    "def deficiency(x, diffs):\n",
    "    return omega(N + 1, x) * xDiff(x, diffs, points, N)\n",
    "\n",
    "def plotDifference(samples, solution):\n",
    "    space = np.linspace(a, b, samples)\n",
    "    plt.plot(space, np.zeros(np.shape(space)))\n",
    "    plt.plot(space, np.array([solution(x) - f(x) for x in space], dtype=np.double))\n",
    "    plt.savefig(\"../TeX/Interpolation/NewtonDiff.png\")\n",
    "    plt.show()\n",
    "\n",
    "if __name__ == \"__main__\":\n",
    "    A = buildDiffs(points, f)\n",
    "    solution = getSolution(A, points)\n",
    "    \n",
    "    check = [points[0] + delta / 2.6, \n",
    "             points[5] + delta / 2.6,\n",
    "             points[9] + delta / 2.6]\n",
    "    \n",
    "    [print(\"Pn({0}) = {1}\".format(x, solution(x))) for x in check]\n",
    "    print()\n",
    "    [print(\"rn({0}) = {1}\".format(x, solution(x) - f(x))) for x in check]\n",
    "    print()\n",
    "    \n",
    "    space = np.linspace(a, b, 1000)\n",
    "    print(\"Real deficiency on whole interval: \" + \n",
    "          str(np.max(np.abs(np.array([(solution(x) - f(x)) for x in space], dtype=np.double)))))\n",
    "    print()\n",
    "    \n",
    "    \n",
    "    print(\"Expected deficiency in control points: \" + \n",
    "          str(np.max(np.abs(np.array([(deficiency(x, A)) for x in check], dtype=np.double)))))\n",
    "    print()\n",
    "    print(\"Real deficiency on control points: \" + \n",
    "          str(np.max(np.abs(np.array([(solution(x) - f(x)) for x in check], dtype=np.double)))))\n",
    "    \n",
    "    plotDifference(1000, solution)"
   ]
  }
 ],
 "metadata": {
  "kernelspec": {
   "display_name": "Python 3",
   "language": "python",
   "name": "python3"
  },
  "language_info": {
   "codemirror_mode": {
    "name": "ipython",
    "version": 3
   },
   "file_extension": ".py",
   "mimetype": "text/x-python",
   "name": "python",
   "nbconvert_exporter": "python",
   "pygments_lexer": "ipython3",
   "version": "3.7.3"
  }
 },
 "nbformat": 4,
 "nbformat_minor": 2
}
